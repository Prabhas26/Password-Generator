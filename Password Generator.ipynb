{
 "cells": [
  {
   "cell_type": "code",
   "execution_count": 3,
   "id": "2dff253d",
   "metadata": {},
   "outputs": [
    {
     "name": "stdout",
     "output_type": "stream",
     "text": [
      "How many passwords do you want to generate? 2\n",
      "Generating 2 passwords\n",
      "Enter the length of Password #1: 2\n",
      "Password length cannot be less than 3. Setting it to 3.\n",
      "Enter the length of Password #2: 4\n",
      "Should the password contain numbers? (y/n): y\n",
      "Should the password contain uppercase letters? (y/n): y\n",
      "Should the password contain special characters? (y/n): y\n",
      "Password #1 = 9>4\n",
      "Password #2 = F:\"9\n"
     ]
    }
   ],
   "source": [
    "import random\n",
    "import string\n",
    "\n",
    "def generatePassword(pwlength, use_digits=True, use_uppercase=True, use_special_chars=True):\n",
    "    # Define the character sets based on user choices\n",
    "    alphabet = string.ascii_lowercase  # Lowercase letters\n",
    "    digits = string.digits if use_digits else \"\"\n",
    "    uppercase = string.ascii_uppercase if use_uppercase else \"\"\n",
    "    special_chars = string.punctuation if use_special_chars else \"\"\n",
    "    \n",
    "    # Combine all the available characters\n",
    "    all_chars = alphabet + digits + uppercase + special_chars\n",
    "\n",
    "    passwords = []\n",
    "    for length in pwlength:\n",
    "        # Ensure password length is at least 3\n",
    "        if length < 3:\n",
    "            length = 3\n",
    "        \n",
    "        password = ''.join(random.choice(all_chars) for _ in range(length))  # Randomly select characters\n",
    "\n",
    "        # Insert random numbers and uppercase letters at random positions\n",
    "        password = replaceWithNumber(password, length)\n",
    "        password = replaceWithUppercaseLetter(password, length)\n",
    "        \n",
    "        passwords.append(password)\n",
    "    \n",
    "    return passwords\n",
    "\n",
    "def replaceWithNumber(pword, pwlength):\n",
    "    # Replace 1-2 random characters with numbers\n",
    "    num_replacements = random.randint(1, 2)\n",
    "    for _ in range(num_replacements):\n",
    "        replace_index = random.randrange(pwlength)\n",
    "        pword = pword[:replace_index] + str(random.randint(0, 9)) + pword[replace_index+1:]\n",
    "    return pword\n",
    "\n",
    "def replaceWithUppercaseLetter(pword, pwlength):\n",
    "    # Replace 1-2 random characters with uppercase letters\n",
    "    num_replacements = random.randint(1, 2)\n",
    "    for _ in range(num_replacements):\n",
    "        replace_index = random.randrange(pwlength)\n",
    "        pword = pword[:replace_index] + pword[replace_index].upper() + pword[replace_index+1:]\n",
    "    return pword\n",
    "\n",
    "def main():\n",
    "    numPasswords = int(input(\"How many passwords do you want to generate? \"))\n",
    "    \n",
    "    print(\"Generating \" + str(numPasswords) + \" passwords\")\n",
    "    \n",
    "    passwordLengths = []\n",
    "    for i in range(numPasswords):\n",
    "        length = int(input(f\"Enter the length of Password #{i + 1}: \"))\n",
    "        if length < 3:\n",
    "            print(\"Password length cannot be less than 3. Setting it to 3.\")\n",
    "            length = 3\n",
    "        passwordLengths.append(length)\n",
    "\n",
    "    # Ask user for password requirements (digits, uppercase, special characters)\n",
    "    use_digits = input(\"Should the password contain numbers? (y/n): \").lower() == 'y'\n",
    "    use_uppercase = input(\"Should the password contain uppercase letters? (y/n): \").lower() == 'y'\n",
    "    use_special_chars = input(\"Should the password contain special characters? (y/n): \").lower() == 'y'\n",
    "\n",
    "    # Generate passwords based on the user's input\n",
    "    passwords = generatePassword(passwordLengths, use_digits, use_uppercase, use_special_chars)\n",
    "\n",
    "    for i, password in enumerate(passwords, start=1):\n",
    "        print(f\"Password #{i} = {password}\")\n",
    "\n",
    "if __name__ == \"__main__\":\n",
    "    main()"
   ]
  },
  {
   "cell_type": "code",
   "execution_count": null,
   "id": "8e3dad2b",
   "metadata": {},
   "outputs": [],
   "source": []
  },
  {
   "cell_type": "code",
   "execution_count": null,
   "id": "d52218f7",
   "metadata": {},
   "outputs": [],
   "source": []
  }
 ],
 "metadata": {
  "kernelspec": {
   "display_name": "Python 3 (ipykernel)",
   "language": "python",
   "name": "python3"
  },
  "language_info": {
   "codemirror_mode": {
    "name": "ipython",
    "version": 3
   },
   "file_extension": ".py",
   "mimetype": "text/x-python",
   "name": "python",
   "nbconvert_exporter": "python",
   "pygments_lexer": "ipython3",
   "version": "3.11.3"
  }
 },
 "nbformat": 4,
 "nbformat_minor": 5
}
